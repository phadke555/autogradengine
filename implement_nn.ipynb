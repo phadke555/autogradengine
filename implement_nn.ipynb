{
 "cells": [
  {
   "cell_type": "code",
   "execution_count": 6,
   "metadata": {},
   "outputs": [],
   "source": [
    "from nn import MLP"
   ]
  },
  {
   "cell_type": "code",
   "execution_count": 7,
   "metadata": {},
   "outputs": [],
   "source": [
    "n = MLP(3, [4, 4, 1])\n",
    "\n",
    "xs = [\n",
    "  [2.0, 3.0, -1.0],\n",
    "  [3.0, -1.0, 0.5],\n",
    "  [0.5, 1.0, 1.0],\n",
    "  [1.0, 1.0, -1.0],\n",
    "]\n",
    "ys = [1.0, -1.0, -1.0, 1.0] # desired targets"
   ]
  },
  {
   "cell_type": "code",
   "execution_count": 8,
   "metadata": {},
   "outputs": [
    {
     "data": {
      "text/plain": [
       "Value(data=5.571356105961824)"
      ]
     },
     "execution_count": 8,
     "metadata": {},
     "output_type": "execute_result"
    }
   ],
   "source": [
    "# want to minimize the loss\n",
    "ypred = [n(x) for x in xs]\n",
    "loss = sum((yout - ygt)**2 for ygt, yout in zip(ys, ypred))\n",
    "loss"
   ]
  },
  {
   "cell_type": "code",
   "execution_count": 9,
   "metadata": {},
   "outputs": [
    {
     "name": "stdout",
     "output_type": "stream",
     "text": [
      "0 5.571356105961824\n",
      "1 3.765909408376118\n",
      "2 3.2712317489252314\n",
      "3 3.016824270933766\n",
      "4 2.817650100345076\n",
      "5 2.6212336193277253\n",
      "6 2.3949019175903716\n",
      "7 2.112609832717653\n",
      "8 1.7628994768108537\n",
      "9 1.3730197903725565\n",
      "10 1.0099532043577435\n",
      "11 0.7273800463386447\n",
      "12 0.5306854855633248\n",
      "13 0.3987183187190096\n",
      "14 0.30944568223129615\n",
      "15 0.24741681162469925\n",
      "16 0.20294515393488846\n",
      "17 0.17008226069166033\n",
      "18 0.14512675415776052\n",
      "19 0.12571686153175304\n"
     ]
    }
   ],
   "source": [
    "# training loop\n",
    "\n",
    "iter = 20 #training iterations\n",
    "lr = -0.05 #learning rate\n",
    "for k in range(iter):\n",
    "    \n",
    "    # forward pass\n",
    "    ypred = [n(x) for x in xs]\n",
    "    loss = sum((yout - ygt)**2 for ygt, yout in zip(ys, ypred)) #squared error loss function\n",
    "    \n",
    "    # backward pass\n",
    "    # set gradients to 0\n",
    "    for p in n.parameters():\n",
    "        p.grad = 0.00\n",
    "    loss.backward()\n",
    "    \n",
    "    # update parameters\n",
    "    for p in n.parameters():\n",
    "        p.data += lr * p.grad\n",
    "    \n",
    "    print(k, loss.data)"
   ]
  },
  {
   "cell_type": "code",
   "execution_count": 10,
   "metadata": {},
   "outputs": [
    {
     "data": {
      "text/plain": [
       "[Value(data=0.8510118677641598),\n",
       " Value(data=-0.9647162128144704),\n",
       " Value(data=-0.7521265985680741),\n",
       " Value(data=0.7979276634245983)]"
      ]
     },
     "execution_count": 10,
     "metadata": {},
     "output_type": "execute_result"
    }
   ],
   "source": [
    "ypred"
   ]
  }
 ],
 "metadata": {
  "kernelspec": {
   "display_name": "Python 3",
   "language": "python",
   "name": "python3"
  },
  "language_info": {
   "codemirror_mode": {
    "name": "ipython",
    "version": 3
   },
   "file_extension": ".py",
   "mimetype": "text/x-python",
   "name": "python",
   "nbconvert_exporter": "python",
   "pygments_lexer": "ipython3",
   "version": "3.9.12"
  },
  "orig_nbformat": 4
 },
 "nbformat": 4,
 "nbformat_minor": 2
}
